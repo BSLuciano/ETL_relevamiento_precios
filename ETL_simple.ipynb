{
 "cells": [
  {
   "cell_type": "code",
   "execution_count": 3,
   "metadata": {},
   "outputs": [],
   "source": [
    "# Extracción\n",
    "import pandas as pd\n",
    "import os\n",
    "import re\n",
    "import glob\n",
    "\n",
    "# Transformación\n",
    "from FuncionesETL_simple.funciones_ETL_simple import *\n",
    "\n",
    "# Carga\n",
    "import psycopg2\n",
    "import sqlalchemy as db"
   ]
  },
  {
   "attachments": {},
   "cell_type": "markdown",
   "metadata": {},
   "source": [
    "## - EXTRACCIÓN"
   ]
  },
  {
   "cell_type": "code",
   "execution_count": 64,
   "metadata": {},
   "outputs": [],
   "source": [
    "folder_path = os.getcwd() + \"\\\\Datasets\\\\\" # Ruta de la carpeta donde están los archivos\n",
    "file_path = glob.glob(folder_path + \"*\") # Lista de rutas de los archivos de precios"
   ]
  },
  {
   "cell_type": "code",
   "execution_count": 65,
   "metadata": {},
   "outputs": [],
   "source": [
    "# Bucle que recorre todos los archivos de la carpeta, crea un df y lo agrega a una lista\n",
    "lst_df = []\n",
    "\n",
    "for path in file_path:\n",
    "    df = importar(path)  # La función importar se encuentra en el archivo funciones_ETL.py\n",
    "    lst_df.append(df)"
   ]
  },
  {
   "cell_type": "code",
   "execution_count": 66,
   "metadata": {},
   "outputs": [],
   "source": [
    "# Lista con los nombres de archivos\n",
    "lst_keys = []\n",
    "for path in file_path:\n",
    "    filename = os.path.split(path)[1]\n",
    "    filename_mod = filename.split('.')[0]\n",
    "    lst_keys.append(filename_mod)"
   ]
  },
  {
   "cell_type": "code",
   "execution_count": 67,
   "metadata": {},
   "outputs": [],
   "source": [
    "# Diccionario que contiene cada df y le asigna como key el nombre del archivo correspondiente\n",
    "dicc_df={}\n",
    "for e in range(len(lst_keys)):\n",
    "    key = lst_keys[e]\n",
    "    df = lst_df[e] \n",
    "    dicc_df[key] = df"
   ]
  },
  {
   "cell_type": "markdown",
   "metadata": {},
   "source": []
  },
  {
   "attachments": {},
   "cell_type": "markdown",
   "metadata": {},
   "source": [
    "---"
   ]
  },
  {
   "attachments": {},
   "cell_type": "markdown",
   "metadata": {},
   "source": [
    "## - TRANSFORMACIÓN"
   ]
  },
  {
   "cell_type": "code",
   "execution_count": 68,
   "metadata": {},
   "outputs": [
    {
     "data": {
      "text/plain": [
       "{'precios_semanas_20200419_20200426':         precio    producto_id sucursal_id fecha_semana\n",
       " 0        198.9  9990385651946    5-1-2003   2020-04-19\n",
       " 1        349.0  7790520000064      50-1-2   2020-04-19\n",
       " 2        449.0  7790520000071      49-1-2   2020-04-19\n",
       " 3        449.0  7790520000071      50-1-2   2020-04-19\n",
       " 4        122.5  7790520000125   20-1-2001   2020-04-19\n",
       " ...        ...            ...         ...          ...\n",
       " 937447   830.0  7792410010047     10-1-46   2020-04-26\n",
       " 937448   930.0  7792410010047     10-1-48   2020-04-26\n",
       " 937449  1030.0  7792410010047      10-1-6   2020-04-26\n",
       " 937450   980.0  7792410010047    10-3-465   2020-04-26\n",
       " 937451  4732.0  7899026484603   11-5-2997   2020-04-26\n",
       " \n",
       " [920483 rows x 4 columns],\n",
       " 'precios_semana_20200413':         precio    producto_id sucursal_id fecha_semana\n",
       " 0        29.90  0000000001663     2-1-014   2020-04-13\n",
       " 1        29.90  0000000002288     2-1-032   2020-04-13\n",
       " 2        39.90  0000000002288     2-1-096   2020-04-13\n",
       " 3       499.99  0000000205870     9-1-686   2020-04-13\n",
       " 4       519.99  0000000205870     9-2-248   2020-04-13\n",
       " ...        ...            ...         ...          ...\n",
       " 472161  139.99  9569753142128      25-1-1   2020-04-13\n",
       " 472162   34.99  9795403001143      25-1-1   2020-04-13\n",
       " 472163  312.50  9990385651922       5-1-3   2020-04-13\n",
       " 472164  312.50  9990385651939       5-1-3   2020-04-13\n",
       " 472165  198.90  9990385651946       5-1-3   2020-04-13\n",
       " \n",
       " [472125 rows x 4 columns],\n",
       " 'precios_semana_20200503':         precio    producto_id sucursal_id fecha_semana\n",
       " 0        29.90  0000000002288     2-1-187   2020-05-03\n",
       " 1        39.90  0000000002288     2-3-247   2020-05-03\n",
       " 2       499.99  0000000205870     9-1-685   2020-05-03\n",
       " 3       539.99  0000000205870      9-2-22   2020-05-03\n",
       " 4       519.99  0000000205870      9-2-59   2020-05-03\n",
       " ...        ...            ...         ...          ...\n",
       " 397729  139.99  9569753142128      25-1-1   2020-05-03\n",
       " 397730   34.99  9795403001143      25-1-1   2020-05-03\n",
       " 397731  312.50  9990385651922       5-1-5   2020-05-03\n",
       " 397732  312.50  9990385651939       5-1-5   2020-05-03\n",
       " 397733  198.90  9990385651946       5-1-5   2020-05-03\n",
       " \n",
       " [395604 rows x 4 columns],\n",
       " 'precios_semana_20200518':         precio    producto_id sucursal_id fecha_semana\n",
       " 0        29.90  0000000002288     2-1-009   2020-05-18\n",
       " 1        32.90  0000000002288     2-1-037   2020-05-18\n",
       " 2        36.90  0000000002288     2-1-090   2020-05-18\n",
       " 3        39.90  0000000002288     2-3-247   2020-05-18\n",
       " 4       499.99  0000000205870     9-1-430   2020-05-18\n",
       " ...        ...            ...         ...          ...\n",
       " 415288  149.99  9569753142128      25-1-1   2020-05-18\n",
       " 415289   34.99  9795403001143      25-1-1   2020-05-18\n",
       " 415290  312.50  9990385651922       5-1-4   2020-05-18\n",
       " 415291  312.50  9990385651939       5-1-4   2020-05-18\n",
       " 415292  198.90  9990385651946       5-1-4   2020-05-18\n",
       " \n",
       " [413139 rows x 4 columns],\n",
       " 'producto':          producto_id        marca  \\\n",
       " 0      0000000001663   LA ANÓNIMA   \n",
       " 1      0000000002288   LA ANÓNIMA   \n",
       " 2      0000000205870    SIN MARCA   \n",
       " 3      0000000205894    SIN MARCA   \n",
       " 4      0000000205955    SIN MARCA   \n",
       " ...              ...          ...   \n",
       " 72033  9569753142128  DELI-SITAS    \n",
       " 72034  9795403001143         MAYO   \n",
       " 72035  9990385651922         DANA   \n",
       " 72036  9990385651939         DANA   \n",
       " 72037  9990385651946         DANA   \n",
       " \n",
       "                                                   nombre presentacion  \n",
       " 0                        Radicheta Atada La Anonima 1 Un       1.0 un  \n",
       " 1                          Perejil Atado La Anonima 1 Un       1.0 un  \n",
       " 2                                       Ojo de Bife 1 Kg       1.0 kg  \n",
       " 3                      Milanesa de Peceto Novillito 1 Kg       1.0 kg  \n",
       " 4                             Chiquizuela Novillito 1 Kg       1.0 kg  \n",
       " ...                                                  ...          ...  \n",
       " 72033  Milhojas Cobertura de Chocolate Blanco Deli-Si...     500.0 gr  \n",
       " 72034                           Mini Pizzetas Mayo 12 Un      12.0 un  \n",
       " 72035                 Te Negro en Hebras Lata Dana 50 Gr      50.0 gr  \n",
       " 72036                 Te Verde en Hebras Lata Dana 50 Gr      50.0 gr  \n",
       " 72037            Yerba Mate Aromatizada Lata Dana 150 Gr     150.0 gr  \n",
       " \n",
       " [67941 rows x 4 columns],\n",
       " 'sucursal':      sucursal_id  comercioId  banderaId      banderaDescripcion  \\\n",
       " 0          1-1-7           1          1              Super MAMI   \n",
       " 1         10-1-1          10          1  Hipermercado Carrefour   \n",
       " 2        10-1-10          10          1  Hipermercado Carrefour   \n",
       " 3        10-1-11          10          1  Hipermercado Carrefour   \n",
       " 4       10-1-112          10          1  Hipermercado Carrefour   \n",
       " ...          ...         ...        ...                     ...   \n",
       " 2328    9-3-5277           9          3                   Jumbo   \n",
       " 2329    9-3-5626           9          3                   Jumbo   \n",
       " 2330    9-3-5961           9          3                   Jumbo   \n",
       " 2331     9-3-628           9          3                   Jumbo   \n",
       " 2332     9-3-662           9          3                   Jumbo   \n",
       " \n",
       "               comercioRazonSocial provincia                     localidad  \\\n",
       " 0                 Dinosaurio S.A.      AR-X                   SALSIPUEDES   \n",
       " 1                        INC S.A.      AR-B                    San Isidro   \n",
       " 2                        INC S.A.      AR-B                    Hurlingham   \n",
       " 3                        INC S.A.      AR-B           Malvinas Argentinas   \n",
       " 4                        INC S.A.      AR-A                         Salta   \n",
       " ...                           ...       ...                           ...   \n",
       " 2328  Jumbo Retail Argentina S.A.      AR-U            COMODORO RIVADAVIA   \n",
       " 2329  Jumbo Retail Argentina S.A.      AR-B               GENERAL PACHECO   \n",
       " 2330  Jumbo Retail Argentina S.A.      AR-C  CIUDAD AUTONOMA BUENOS AIRES   \n",
       " 2331  Jumbo Retail Argentina S.A.      AR-B                  SAN FERNANDO   \n",
       " 2332  Jumbo Retail Argentina S.A.      AR-B                      DEL VISO   \n",
       " \n",
       "                                         direccion        lat        lng  \\\n",
       " 0                                   E53 1011 None -31.126667 -64.295250   \n",
       " 1                       Bernardo De Irigoyen 2647 -34.491345 -58.589025   \n",
       " 2                                Av. Vergara 1910 -34.620610 -58.633769   \n",
       " 3                           Av. Arturo Illia 3770 -34.528883 -58.701631   \n",
       " 4                                20 De Febrero 37 -24.789072 -65.413699   \n",
       " ...                                           ...        ...        ...   \n",
       " 2328                          Yrigoyen Hipolito 0 -45.873300 -67.493500   \n",
       " 2329                        Boulogne Sur Mer 1275 -34.474500 -58.625700   \n",
       " 2330                        Avenida Santa Fe 4950 -34.577200 -58.430000   \n",
       " 2331  Avenida Del Libertador Gral San Martin 2271 -34.446900 -58.545700   \n",
       " 2332                         Acceso Pilar Norte 0 -34.436000 -58.808000   \n",
       " \n",
       "              sucursalNombre  sucursalTipo  \n",
       " 0              Super Mami 4  Hipermercado  \n",
       " 1                San Isidro  Hipermercado  \n",
       " 2               Villa Tesei  Hipermercado  \n",
       " 3       Malvinas Argentinas  Hipermercado  \n",
       " 4                     Salta  Hipermercado  \n",
       " ...                     ...           ...  \n",
       " 2328         Jumbo-Comodoro  Hipermercado  \n",
       " 2329     Jumbo Pacheco Novo  Hipermercado  \n",
       " 2330     Jumbo Av. Santa Fé  Supermercado  \n",
       " 2331     Jumbo San Fernando  Supermercado  \n",
       " 2332  Jumbo Paseo del Pilar  Supermercado  \n",
       " \n",
       " [2333 rows x 12 columns]}"
      ]
     },
     "execution_count": 68,
     "metadata": {},
     "output_type": "execute_result"
    }
   ],
   "source": [
    "transformacion(dicc_df) # ver función en archivo funciones_ETL.py"
   ]
  },
  {
   "attachments": {},
   "cell_type": "markdown",
   "metadata": {},
   "source": [
    "---"
   ]
  },
  {
   "attachments": {},
   "cell_type": "markdown",
   "metadata": {},
   "source": [
    "## - CARGA"
   ]
  },
  {
   "cell_type": "code",
   "execution_count": 70,
   "metadata": {},
   "outputs": [],
   "source": [
    "from conexion_DB import *"
   ]
  },
  {
   "cell_type": "code",
   "execution_count": 71,
   "metadata": {},
   "outputs": [
    {
     "data": {
      "text/plain": [
       "941"
      ]
     },
     "execution_count": 71,
     "metadata": {},
     "output_type": "execute_result"
    }
   ],
   "source": [
    "dicc_df['producto'].to_sql(name=\"producto\", con = conection, if_exists='append', index=False)"
   ]
  },
  {
   "cell_type": "code",
   "execution_count": 72,
   "metadata": {},
   "outputs": [
    {
     "data": {
      "text/plain": [
       "333"
      ]
     },
     "execution_count": 72,
     "metadata": {},
     "output_type": "execute_result"
    }
   ],
   "source": [
    "dicc_df['sucursal'].to_sql(name=\"sucursal\", con = conection, if_exists='append', index=False)"
   ]
  },
  {
   "cell_type": "code",
   "execution_count": 75,
   "metadata": {},
   "outputs": [
    {
     "data": {
      "text/plain": [
       "351"
      ]
     },
     "execution_count": 75,
     "metadata": {},
     "output_type": "execute_result"
    }
   ],
   "source": [
    "lst_df = []\n",
    "for key in dicc_df.keys():\n",
    "    if 'precios_semana' in key:\n",
    "        lst_df.append(dicc_df[key])\n",
    "\n",
    "tabla_precio = pd.concat(lst_df)\n",
    "\n",
    "tabla_precio = tabla_precio.sort_values('fecha_semana')\n",
    "\n",
    "tabla_precio.to_sql(name=\"precio\", con = conection, if_exists='append', index=False)"
   ]
  }
 ],
 "metadata": {
  "kernelspec": {
   "display_name": "Python 3",
   "language": "python",
   "name": "python3"
  },
  "language_info": {
   "codemirror_mode": {
    "name": "ipython",
    "version": 3
   },
   "file_extension": ".py",
   "mimetype": "text/x-python",
   "name": "python",
   "nbconvert_exporter": "python",
   "pygments_lexer": "ipython3",
   "version": "3.10.6"
  },
  "orig_nbformat": 4,
  "vscode": {
   "interpreter": {
    "hash": "a2a52aef931fcd23a480fc50f39afd0b17785c85069eee4875d92629a01f91b2"
   }
  }
 },
 "nbformat": 4,
 "nbformat_minor": 2
}
